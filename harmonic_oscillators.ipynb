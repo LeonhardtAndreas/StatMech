{
 "cells": [
  {
   "cell_type": "markdown",
   "metadata": {},
   "source": [
    "# Coupled harmonic oscillators\n",
    "\n",
    "\n",
    "\n",
    "At first we get some modules, most importantly numpy for calculations and pyplot for plotting"
   ]
  },
  {
   "cell_type": "code",
   "execution_count": 1,
   "metadata": {},
   "outputs": [],
   "source": [
    "import numpy as np\n",
    "from math import factorial, gamma\n",
    "import matplotlib.pyplot as plt\n",
    "from ipywidgets import interact,interact_manual, FloatSlider, IntSlider, FloatLogSlider"
   ]
  },
  {
   "cell_type": "markdown",
   "metadata": {},
   "source": [
    "# Defining the System\n",
    "\n",
    "We define the constants in the Hamiltonian as given in the exercise.\n",
    "When changed, you need to re-evaluate this box (Shift+Enter)."
   ]
  },
  {
   "cell_type": "code",
   "execution_count": 2,
   "metadata": {},
   "outputs": [],
   "source": [
    "# spring constant\n",
    "k = 1\n",
    "# mass of one oscillator\n",
    "m = 1\n",
    "# distance between two oscillators\n",
    "d = 3"
   ]
  },
  {
   "cell_type": "markdown",
   "metadata": {},
   "source": [
    "# Functions for the Time Evolution\n",
    "\n",
    "## The force for a given configuration\n",
    "\n",
    "f takes a state and returns the force acting on it, i.e. the gradient of \n",
    "the potential and interaction energy. \n",
    "$$ f(q) = -\\nabla_q ( H_{pot}(q) + H_{int}(q) )$$\n",
    "\n",
    "1. First we add the interaction force from the left neighbour by calculating the distances. \n",
    "    Note the indexing: \n",
    "    - q[1:] runs from the second to the last element, \n",
    "    - q[-1] denotes the last element and \n",
    "    - q[:-1] = q[0:-1] runs from the first to the second last element.\n",
    "2. The second step adds interactions from the right neighbour, which is just minus \n",
    "    the one from that site to the right neighbour as calculated before.\n",
    "    Therefore we only shift what we already have and subtract it.\n",
    "3. The last step adds just the force of the harmonic oscillator."
   ]
  },
  {
   "cell_type": "code",
   "execution_count": 3,
   "metadata": {},
   "outputs": [],
   "source": [
    "def f(q,epsilon):\n",
    "    f = np.zeros_like(q)\n",
    "    # interaction to the left\n",
    "    f[:-1] += np.sign(q[1:]-q[:-1]+d)*epsilon/(q[1:]-q[:-1]+d)**2 \n",
    "    # is minus the interaction to the right\n",
    "    f[1:] -=f[:-1]\n",
    "    # force from the potential\n",
    "    f -= k*q\n",
    "    return f\n",
    "        "
   ]
  },
  {
   "cell_type": "markdown",
   "metadata": {},
   "source": [
    "## Verlet integration\n",
    "\n",
    "Verlet integration is a reformulation of $\\frac{d^2q}{dt^2} = \\frac{1}{m}f(q)$\n",
    "for a discretized second derivative $$\\frac{d^2 q}{dt^2} = \\frac{ q(t+dt) + q(q-dt) - 2q(t) }{dt^2}$$\n",
    "\n",
    "Pay attention of the usage later, when q_new is written to q, and q to q_old."
   ]
  },
  {
   "cell_type": "code",
   "execution_count": 4,
   "metadata": {},
   "outputs": [],
   "source": [
    "def time_step(q,q_old,delta_t,epsilon):\n",
    "    q_new = -q_old + 2*q + delta_t**2*f(q,epsilon)/m\n",
    "    return [q_new, q]"
   ]
  },
  {
   "cell_type": "markdown",
   "metadata": {},
   "source": [
    "# Analyical calculation for interaction free case\n",
    "\n",
    "Define the analytical solution from a) for comparison"
   ]
  },
  {
   "cell_type": "code",
   "execution_count": 5,
   "metadata": {},
   "outputs": [],
   "source": [
    "def E_pot_analytical(E,E0,N):\n",
    "    return E0**(1-N)*(E0-E)**(N-3/2)/np.sqrt(E*np.pi)*gamma(N)/gamma(N-1/2)"
   ]
  },
  {
   "cell_type": "markdown",
   "metadata": {},
   "source": [
    "# Calculating and Plotting\n",
    "\n",
    "Now we have everthing ready to put it together. \n",
    "We set initial conditons (move the 0th oscillator out of equilibrium), calculate the first time step manually and \n",
    "start the iteration. For each time step we calculate and save the total kinetic Energy E_kin and the potential energy of the zeroth oscillator.\n",
    "\n",
    "The rest is plotting, labeling axes etc."
   ]
  },
  {
   "cell_type": "code",
   "execution_count": 6,
   "metadata": {},
   "outputs": [],
   "source": [
    "def make_plots(N=10,epsilon=0.01,delta_t=0.1,N_t=1e4):\n",
    "    N_t = int(N_t)\n",
    "    # define arrays to be used later and set initial condition\n",
    "    q_old = np.zeros(N)\n",
    "    # move the first oscillator out of equilibrium \n",
    "    q_old[0] = -np.sqrt(2)\n",
    "    # total energy is then given by\n",
    "    E0 = k\n",
    "    # perform first time step\n",
    "    q = q_old + 1/2*delta_t**2*f(q_old,epsilon)/m\n",
    "\n",
    "    E_kin = np.zeros(N_t)\n",
    "    E_pot = np.zeros(N_t)\n",
    "    # further time steps\n",
    "    for t in range(1,N_t):\n",
    "        # calculate kinetic energy\n",
    "        E_kin[t] = ((q-q_old)**2).sum()\n",
    "        # calculate the potential energy of the left oscillator\n",
    "        E_pot[t] = q[0]\n",
    "        # overwrite the state vectors\n",
    "        q, q_old = time_step(q,q_old,delta_t,epsilon)\n",
    "    E_kin *= m/2/delta_t**2/E0\n",
    "    E_pot = k/2*E_pot**2\n",
    "\n",
    "    fig, [ax1,ax2] = plt.subplots(2,1,figsize=[5,8])\n",
    "    \n",
    "    ax1.plot(np.arange(N_t)*delta_t,E_kin)\n",
    "    ax1.set_xlim([0,N_t*delta_t])\n",
    "    ax1.set_xlabel(r'$t$')\n",
    "    ax1.set_ylabel(r'$E_{kin}/E_0$')\n",
    "    \n",
    "    bins = np.arange(21)*.01\n",
    "    ax2.hist(E_pot,bins,density=True)\n",
    "    ax2.set_xlim([bins[0],bins[-1]])\n",
    "    \n",
    "    ax2.plot(np.arange(3,100)*bins[-1]/100,E_pot_analytical(np.arange(3,100)*bins[-1]/100,E0,N),'r')\n",
    "    \n",
    "    ax2.set_xlabel(r'$E_{pot}$')\n",
    "    ax2.set_ylabel(r'$p(E_{pot})$')\n",
    "\n",
    "    plt.show()"
   ]
  },
  {
   "cell_type": "markdown",
   "metadata": {},
   "source": [
    "# Calling the function\n",
    "\n",
    "This lines calls the function defined above, with sliders for N and $\\epsilon$ \n",
    "as well as the Number of time iterations and the time step dt. \n",
    "The other parameters need to be changed in the code, if needed. Remember to re-evaluate the cells after making changes (Shift+Enter).\n",
    "\n",
    "*Time step and duration:*\n",
    "The python code is not very efficient, a calculation of $10^7$ time steps takes very long.\n",
    "$10^6$ with a time step of 0.1 instead of 0.01 does a good job as well in a reasonable time (about a minute)."
   ]
  },
  {
   "cell_type": "code",
   "execution_count": 7,
   "metadata": {},
   "outputs": [
    {
     "data": {
      "application/vnd.jupyter.widget-view+json": {
       "model_id": "6bed28fb111449be8c16b8f00c86d549",
       "version_major": 2,
       "version_minor": 0
      },
      "text/plain": [
       "interactive(children=(IntSlider(value=10, description='N', min=2), FloatSlider(value=0.1, description='epsilon…"
      ]
     },
     "metadata": {},
     "output_type": "display_data"
    }
   ],
   "source": [
    "interact_manual(make_plots, \n",
    "         N       = IntSlider(value=10, min=2, max=100, step=1),\n",
    "         epsilon = FloatSlider(value=0.1, min=0,max=1, step=0.01),\n",
    "         delta_t      = FloatLogSlider(value=1e-2, base=10, min=-2, max=-1, step=1),\n",
    "         N_t     = FloatLogSlider(value=1e4, base=10, min=3,max=7, step=1),\n",
    "         continous_updates=False\n",
    "        );"
   ]
  },
  {
   "cell_type": "code",
   "execution_count": null,
   "metadata": {},
   "outputs": [],
   "source": []
  }
 ],
 "metadata": {
  "kernelspec": {
   "display_name": "Python 3",
   "language": "python",
   "name": "python3"
  },
  "language_info": {
   "codemirror_mode": {
    "name": "ipython",
    "version": 3
   },
   "file_extension": ".py",
   "mimetype": "text/x-python",
   "name": "python",
   "nbconvert_exporter": "python",
   "pygments_lexer": "ipython3",
   "version": "3.6.5"
  }
 },
 "nbformat": 4,
 "nbformat_minor": 2
}
