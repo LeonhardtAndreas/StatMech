{
 "cells": [
  {
   "cell_type": "markdown",
   "metadata": {},
   "source": [
    "# Besetzungszahl-Statistik\n",
    "\n",
    "Die Wahrscheinlichkeitsverteilung für die Besetzung eines Zustandes $i$ \n",
    "bei gegebenem Erwartungswert $\\overline{n_i}$."
   ]
  },
  {
   "cell_type": "code",
   "execution_count": 1,
   "metadata": {},
   "outputs": [],
   "source": [
    "import warnings\n",
    "import numpy as np\n",
    "from math import factorial\n",
    "import matplotlib.pyplot as plt\n",
    "from ipywidgets import interact,interact_manual, FloatSlider, IntSlider, FloatLogSlider"
   ]
  },
  {
   "cell_type": "markdown",
   "metadata": {},
   "source": [
    "## Bosonische Besetzungswahrscheinlichkeit\n",
    "$$p_i^{BE} = \\frac{\\overline{n_i}^n}{(\\overline{n_i}+1)^{n+1}}$$"
   ]
  },
  {
   "cell_type": "code",
   "execution_count": 2,
   "metadata": {},
   "outputs": [],
   "source": [
    "def p_BE(n,n_i):\n",
    "    return n_i**n/( (n_i+1)**(n+1) )"
   ]
  },
  {
   "cell_type": "markdown",
   "metadata": {},
   "source": [
    "## Maxell-Boltzmann Besetzungswahrscheinlichkeit\n",
    "$$p_i^{MB}(n) = \\frac{\\overline{n_i}^n}{n!} \\mathrm{e}^{-\\overline{n_i}}$$"
   ]
  },
  {
   "cell_type": "code",
   "execution_count": 3,
   "metadata": {},
   "outputs": [],
   "source": [
    "def p_MB(n,n_i):\n",
    "        return n_i**n/factorial(n)*np.exp(-n_i)"
   ]
  },
  {
   "cell_type": "markdown",
   "metadata": {},
   "source": [
    "## Fermi-Dirac Besetzungswahrscheinlichkeit\n",
    "$$p_i^{FD}(n) =\n",
    "                \\begin{array}{lr} \n",
    "                    1-\\overline{n_i} & n=0 \\\\ \n",
    "                    \\overline{n_i} & n =1 \\\\\n",
    "                    0 & n>1 \\\\\n",
    "                 \\end{array} \n",
    "             $$"
   ]
  },
  {
   "cell_type": "code",
   "execution_count": 4,
   "metadata": {},
   "outputs": [],
   "source": [
    "def p_FD(n,n_i):\n",
    "    if n_i>1:\n",
    "        return None\n",
    "    else:\n",
    "        if n == 0:\n",
    "            return 1-n_i\n",
    "        elif n == 1:\n",
    "            return n_i\n",
    "        else:\n",
    "            return None"
   ]
  },
  {
   "cell_type": "markdown",
   "metadata": {},
   "source": [
    "## Interaktiver Plot\n",
    "$p^{FD}$ ist dabei natürlich nur für Besetzungszahlen $\\le 1$ definiert."
   ]
  },
  {
   "cell_type": "code",
   "execution_count": 5,
   "metadata": {},
   "outputs": [],
   "source": [
    "def make_plot(n_i=0.5,N_max=20):\n",
    "    be = np.zeros(N_max+1)\n",
    "    mb = np.zeros(N_max+1)\n",
    "    fd = np.zeros(N_max+1)\n",
    "    for n in range(N_max+1):\n",
    "        be[n] = p_BE(n,n_i)\n",
    "        mb[n] = p_MB(n,n_i)\n",
    "        fd[n] = p_FD(n,n_i)\n",
    "    \n",
    "    fig, ax = plt.subplots(1,2,figsize=(10,5))\n",
    "    ax[0].plot(be,'bo-',label='BE')\n",
    "    ax[0].plot(mb,'go-',label='MB')\n",
    "    ax[0].plot(fd,'ro' ,label='FD')\n",
    "    ax[0].set_xlim([0,N_max])\n",
    "    ax[0].set_xlabel(r'$n$')\n",
    "    ax[0].set_ylabel(r'$p_i(n)$')\n",
    "    ax[0].legend(bbox_to_anchor=(.7,1),loc=2)\n",
    "    \n",
    "    \n",
    "    with warnings.catch_warnings():\n",
    "        warnings.simplefilter(\"ignore\")\n",
    "        ax[1].plot(np.log(be),'bo-',label='BE')\n",
    "        ax[1].plot(np.log(mb),'go-',label='MB')\n",
    "        ax[1].plot(np.log(fd),'ro' ,label='FD')\n",
    "    ax[1].set_xlim([0,N_max])\n",
    "    ax[1].set_xlabel(r'$n$')\n",
    "    ax[1].set_ylabel(r'$\\log p_i(n)$')\n",
    "    plt.show()"
   ]
  },
  {
   "cell_type": "code",
   "execution_count": 6,
   "metadata": {},
   "outputs": [
    {
     "data": {
      "application/vnd.jupyter.widget-view+json": {
       "model_id": "945d7d9fd1b5464d9f4eb60840d21965",
       "version_major": 2,
       "version_minor": 0
      },
      "text/plain": [
       "interactive(children=(FloatLogSlider(value=0.5, description='n_i', max=2.0, min=-6.0), IntSlider(value=20, des…"
      ]
     },
     "metadata": {},
     "output_type": "display_data"
    }
   ],
   "source": [
    "interact(make_plot, \n",
    "         n_i = FloatLogSlider(value=0.5, base=10, min=-6,max=2, step=.1,\n",
    "                            continous_updates=False),\n",
    "         N_max = IntSlider(value=20,min=10,max=100,step=10,continous_updates=False)\n",
    "        );"
   ]
  },
  {
   "cell_type": "code",
   "execution_count": null,
   "metadata": {},
   "outputs": [],
   "source": []
  }
 ],
 "metadata": {
  "kernelspec": {
   "display_name": "Python 3",
   "language": "python",
   "name": "python3"
  },
  "language_info": {
   "codemirror_mode": {
    "name": "ipython",
    "version": 3
   },
   "file_extension": ".py",
   "mimetype": "text/x-python",
   "name": "python",
   "nbconvert_exporter": "python",
   "pygments_lexer": "ipython3",
   "version": "3.6.5"
  }
 },
 "nbformat": 4,
 "nbformat_minor": 2
}
